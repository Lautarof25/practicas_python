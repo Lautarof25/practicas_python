{
 "cells": [
  {
   "cell_type": "markdown",
   "metadata": {},
   "source": [
    "**Ejercicio 4** \n",
    "\n",
    "Escribir un programa que almacene las asignaturas de un curso (por ejemplo Matemáticas, Física, Química, Historia y Lengua) en una lista y la muestre por pantalla."
   ]
  },
  {
   "cell_type": "code",
   "execution_count": 4,
   "metadata": {},
   "outputs": [
    {
     "name": "stdout",
     "output_type": "stream",
     "text": [
      "['Matemática', 'Lengua', 'Física']\n"
     ]
    }
   ],
   "source": [
    "asignaturas = list()\n",
    "\n",
    "cant_asignaturas = int(input(\"Ingrese la cantidad de asignaturas \"))\n",
    "\n",
    "for i in range(cant_asignaturas):\n",
    "    asignatura = input(\"Ingrese la asignatura \")\n",
    "    asignaturas.append(asignatura)\n",
    "\n",
    "print(asignaturas)"
   ]
  },
  {
   "cell_type": "markdown",
   "metadata": {},
   "source": [
    "**Ejercicio 5** \n",
    "\n",
    "Escribir un programa que almacene las asignaturas de un curso (por ejemplo Matemáticas, Física, Química, Historia y Lengua) en una lista y la muestre por pantalla el mensaje \"Yo estudio **asignatura**\", donde **asignatura** es cada una de las asignaturas de la lista."
   ]
  },
  {
   "cell_type": "code",
   "execution_count": null,
   "metadata": {},
   "outputs": [],
   "source": [
    "asignaturas = list()\n",
    "\n",
    "cant_asignaturas = int(input(\"Ingrese la cantidad de asignaturas \"))\n",
    "\n",
    "for i in range(cant_asignaturas):\n",
    "    asignatura = input(\"Ingrese la asignatura \")\n",
    "    asignaturas.append(asignatura)\n",
    "    print(f\"Yo estudio {asignatura}\")"
   ]
  },
  {
   "cell_type": "markdown",
   "metadata": {},
   "source": [
    "**Ejercicio 6** \n",
    "\n",
    "Escribir un programa que almacene las asignaturas de un curso (por ejemplo Matemáticas, Física, Química, Historia y Lengua) en una lista, pregunte al usuario la nota que ha sacado en cada asignatura, y después las muestre por pantalla con el mensaje \"En **asignatura** has sacado **nota**\" donde **asignatura** es cada una des las asignaturas de la lista y **nota** cada una de las correspondientes notas introducidas por el usuario."
   ]
  },
  {
   "cell_type": "code",
   "execution_count": null,
   "metadata": {},
   "outputs": [],
   "source": [
    "asignaturas = list()\n",
    "\n",
    "cant_asignaturas = int(input(\"Ingrese la cantidad de asignaturas \"))\n",
    "\n",
    "for i in range(cant_asignaturas):\n",
    "    asignatura = input(\"Ingrese la asignatura \")\n",
    "    asignaturas.append(asignatura)\n",
    "    nota = input(f\"Ingrese la nota de {asignatura} \")\n",
    "    print(f\"En {asignatura} has sacado {nota}\")"
   ]
  },
  {
   "cell_type": "markdown",
   "metadata": {},
   "source": [
    "**Ejercicio 7** \n",
    "\n",
    "Escribir un programa que pregunte al usuario los números ganadores de la lotería primitiva, los almacene en una lista y los muestre por pantalla ordenados de menor a mayor."
   ]
  },
  {
   "cell_type": "code",
   "execution_count": 8,
   "metadata": {},
   "outputs": [
    {
     "name": "stdout",
     "output_type": "stream",
     "text": [
      "[7, 14, 23, 97]\n"
     ]
    }
   ],
   "source": [
    "numeros_loteria = []\n",
    "\n",
    "for i in range(4):\n",
    "    numero = int(input(\"Ingrese el numero \"))\n",
    "    numeros_loteria.append(numero)\n",
    "\n",
    "numeros_loteria.sort()\n",
    "\n",
    "print(numeros_loteria)"
   ]
  },
  {
   "cell_type": "markdown",
   "metadata": {},
   "source": [
    "**Ejercicio 8** \n",
    "\n",
    "Escribir un programa que almacene las asignaturas de un curso (por ejemplo Matemáticas, Física, Química, Historia y Lengua) en una lista, pregunte al usuario la nota que ha sacado en cada asignatura y elimine de la lista las asignaturas aprobadas. Al final el programa debe mostrar por pantalla las asignaturas que el usuario tiene que repetir."
   ]
  },
  {
   "cell_type": "code",
   "execution_count": 4,
   "metadata": {},
   "outputs": [
    {
     "name": "stdout",
     "output_type": "stream",
     "text": [
      "Lengua\n",
      "['Matemática', 'Física']\n"
     ]
    }
   ],
   "source": [
    "asignaturas = list()\n",
    "asignaturas_repetir = []\n",
    "\n",
    "cant_asignaturas = int(input(\"Ingrese la cantidad de asignaturas \"))\n",
    "\n",
    "for i in range(cant_asignaturas):\n",
    "    asignatura = input(\"Ingrese la asignatura \")\n",
    "    asignaturas.append(asignatura)\n",
    "\n",
    "i = 0        \n",
    "while i < len(asignaturas):\n",
    "    nota = int(input(f\"Ingrese la nota de {asignaturas[i]}\"))\n",
    "    if nota < 7:\n",
    "        asignaturas_repetir = asignaturas[i]\n",
    "        asignaturas.remove(asignaturas[i])\n",
    "        i-=1\n",
    "    i+=1\n",
    "\n",
    "print(asignaturas_repetir)\n",
    "print(asignaturas)"
   ]
  },
  {
   "cell_type": "markdown",
   "metadata": {},
   "source": [
    "**Ejercicio 9** \n",
    "\n",
    "Escribir un programa que pida al usuario una palabra y muestre por pantalla el número de veces que contiene cada vocal."
   ]
  },
  {
   "cell_type": "code",
   "execution_count": null,
   "metadata": {},
   "outputs": [],
   "source": [
    "palabra = input(\"Ingrese una palabra \").lower()\n",
    "\n",
    "vocales = {\n",
    "    \"a\":0,\n",
    "    \"e\":0,\n",
    "    \"i\":0,\n",
    "    \"o\":0,\n",
    "    \"u\":0,\n",
    "}\n",
    "\n",
    "for letra in palabra:\n",
    "    if letra in vocales:\n",
    "        vocales[letra]+= 1\n",
    "\n",
    "print(f\"La palabra {palabra} contiene...\")\n",
    "for k,v in vocales.items():\n",
    "    if v != 0:\n",
    "        print(f\"{k} : {v}\")\n"
   ]
  },
  {
   "cell_type": "markdown",
   "metadata": {},
   "source": [
    "**Ejercicio 10** \n",
    "\n",
    "Escribir un programa que guarde en una variable el diccionario **{'Euro':'€', 'Dollar':'$', 'Yen':'¥'}**, pregunte al usuario por una divisa y muestre su símbolo o un mensaje de aviso si la divisa no está en el diccionario."
   ]
  },
  {
   "cell_type": "code",
   "execution_count": 14,
   "metadata": {},
   "outputs": [
    {
     "data": {
      "text/plain": [
       "'€'"
      ]
     },
     "execution_count": 14,
     "metadata": {},
     "output_type": "execute_result"
    }
   ],
   "source": [
    "divisas = {'Euro':'€', 'Dollar':'$', 'Yen':'¥'}\n",
    "\n",
    "divisa = input(\"Ingrese una divisa \")\n",
    "\n",
    "divisas.get(divisa,\"La divisa no se encuentra\")"
   ]
  },
  {
   "cell_type": "markdown",
   "metadata": {},
   "source": [
    "**Ejercicio 11** \n",
    "\n",
    "Escribir un programa que pregunte al usuario su nombre, edad, dirección y teléfono y lo guarde en un diccionario. Después debe mostrar por pantalla el mensaje \"**nombre** tiene **edad** años, vive en **dirección** y su número de teléfono es **teléfono**\"."
   ]
  },
  {
   "cell_type": "code",
   "execution_count": 3,
   "metadata": {},
   "outputs": [
    {
     "name": "stdout",
     "output_type": "stream",
     "text": [
      "Lautaro tiene 32 años, vive en Isabel del maestro 945 y su teléfono es 1160382014\n"
     ]
    }
   ],
   "source": [
    "datos_usuario = {\n",
    "    \"nombre\":\"\",\n",
    "    \"edad\": \"\",\n",
    "    \"direccion\": \"\",\n",
    "    \"telefono\": \"\"\n",
    "}\n",
    "\n",
    "for i in datos_usuario:\n",
    "    datos_usuario[i] = input(f\"Ingrese el {i}\")\n",
    "\n",
    "\n",
    "print(f\"{datos_usuario.get('nombre')} tiene {datos_usuario.get('edad')} años, vive en {datos_usuario.get('direccion')} y su teléfono es {datos_usuario.get('telefono')}\")\n"
   ]
  },
  {
   "cell_type": "markdown",
   "metadata": {},
   "source": [
    "**Ejercicio 12** \n",
    "\n",
    "Escribir un programa que guarde en un diccionario los precios de frutas , pregunte al usuario por una fruta, un número de kilos y muestre por pantalla el precio de ese número de kilos de fruta. Si la fruta no está en el diccionario debe mostrar un mensaje informando de ello."
   ]
  },
  {
   "cell_type": "code",
   "execution_count": 11,
   "metadata": {},
   "outputs": [
    {
     "name": "stdout",
     "output_type": "stream",
     "text": [
      "No se encontró la fruta\n"
     ]
    }
   ],
   "source": [
    "frutas = {\n",
    "    'banana':270,\n",
    "    'naranja':140,\n",
    "    'mandarina':180,\n",
    "    'tomate':220\n",
    "}\n",
    "\n",
    "usuario_fruta = input(\"Ingrese una fruta \")\n",
    "usuario_kilos = int(input(\"Ingrese los kilos \"))\n",
    "\n",
    "resultado = frutas.get(usuario_fruta,0)\n",
    "\n",
    "if resultado != 0:\n",
    "    total = usuario_kilos * frutas.get(usuario_fruta)\n",
    "    print(f\"El precio total por {usuario_kilos} de {usuario_fruta} es : {total}.\")\n",
    "else:\n",
    "    print(\"No se encontró la fruta\")\n"
   ]
  },
  {
   "cell_type": "markdown",
   "metadata": {},
   "source": [
    "**Ejercicio 13** \n",
    "\n",
    "Escribir un programa que pregunte una fecha en formato dd/mm/aaaa y muestre por pantalla la misma fecha en formato dd de **mes** de aaaa donde **mes** es el nombre del mes."
   ]
  },
  {
   "cell_type": "code",
   "execution_count": 13,
   "metadata": {},
   "outputs": [
    {
     "name": "stdout",
     "output_type": "stream",
     "text": [
      "25 de Febrero de 1990\n"
     ]
    }
   ],
   "source": [
    "fecha = input(\"Ingrese la fecha en formato dd/mm/aaaa\")\n",
    "\n",
    "meses = {\n",
    "    \"01\":\"Enero\",\n",
    "    \"02\":\"Febrero\",\n",
    "    \"03\":\"Marzo\",\n",
    "    \"04\":\"Abril\",\n",
    "    \"05\":\"Mayo\",\n",
    "    \"06\":\"Junio\",\n",
    "    \"07\":\"Julio\",\n",
    "    \"08\":\"Agosto\",\n",
    "    \"09\":\"Septiembre\",\n",
    "    \"10\":\"Octubre\",\n",
    "    \"11\":\"Noviembre\",\n",
    "    \"12\":\"Diciembre\"\n",
    "}\n",
    "\n",
    "fecha_mes = meses.get(fecha[2:4])\n",
    "print(f\"{fecha[:2]} de {fecha_mes} de {fecha[-4:]}\")"
   ]
  },
  {
   "cell_type": "markdown",
   "metadata": {},
   "source": [
    "**Ejercicio 14** \n",
    "\n",
    "Escribir un programa que almacene el diccionario con las notas de las asignaturas de un curso {'Matemáticas': 6, 'Física': 4, 'Química': 5} y después muestre por pantalla las notas de cada asignatura en el formato \"**asignatura** tiene **nota** nota\", donde **asignatura** es cada una de las asignaturas del curso, y **nota** son sus notas. Al final debe mostrar también el número total de notas del curso."
   ]
  },
  {
   "cell_type": "code",
   "execution_count": 14,
   "metadata": {},
   "outputs": [
    {
     "name": "stdout",
     "output_type": "stream",
     "text": [
      "Matemática tiene 9\n",
      "Lengua tiene 5\n",
      "Física tiene 10\n"
     ]
    }
   ],
   "source": [
    "asignaturas = {}\n",
    "\n",
    "cant_asignaturas = int(input(\"Cantidad de asignaturas \"))\n",
    "\n",
    "for i in range(cant_asignaturas):\n",
    "    asignatura = input(\"Ingrese la asignatura \")\n",
    "    nota = int(input(f\"Ingrese la nota de la {asignatura} \"))\n",
    "    asignaturas[asignatura] = nota\n",
    "\n",
    "for k,v in asignaturas.items():\n",
    "    print(f\"{k} tiene {v}\")"
   ]
  }
 ],
 "metadata": {
  "kernelspec": {
   "display_name": "Python 3.10.8 64-bit (microsoft store)",
   "language": "python",
   "name": "python3"
  },
  "language_info": {
   "codemirror_mode": {
    "name": "ipython",
    "version": 3
   },
   "file_extension": ".py",
   "mimetype": "text/x-python",
   "name": "python",
   "nbconvert_exporter": "python",
   "pygments_lexer": "ipython3",
   "version": "3.10.8"
  },
  "orig_nbformat": 4,
  "vscode": {
   "interpreter": {
    "hash": "9d5671eafa9e73bf923d0857eb44135560ea89b4578e9228f4e7da5323ebe009"
   }
  }
 },
 "nbformat": 4,
 "nbformat_minor": 2
}
