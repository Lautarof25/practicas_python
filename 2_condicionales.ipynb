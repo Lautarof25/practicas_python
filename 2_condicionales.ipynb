{
 "cells": [
  {
   "cell_type": "markdown",
   "metadata": {},
   "source": [
    "### Ejercicios if\n",
    "\n",
    "**Ejercicio 1**\n",
    "\n",
    "Escribir un programa que pida al usuario dos números enteros e informe por pantalla cual es menor de los dos, si son iguales, indicarlo por separado."
   ]
  },
  {
   "cell_type": "code",
   "execution_count": null,
   "metadata": {},
   "outputs": [],
   "source": [
    "num1 = int(input(\"Ingrese un numero \"))\n",
    "num2 = int(input(\"Ingrese otro numero \"))\n",
    "\n",
    "if num1 < num2:\n",
    "    print(f\"{num1} es menor a {num2}\")\n",
    "elif num2 < num1:\n",
    "    print(f\"{num2} es menor a {num1}\")\n",
    "else:\n",
    "    print(f\"{num2} es igual a {num1}\")"
   ]
  },
  {
   "cell_type": "markdown",
   "metadata": {},
   "source": [
    "**Ejercicio 2**\n",
    "\n",
    "Escriba un programa que pida tres números y que escriba si son los tres iguales, si hay dos iguales o si son los tres distintos."
   ]
  },
  {
   "cell_type": "code",
   "execution_count": 18,
   "metadata": {},
   "outputs": [
    {
     "name": "stdout",
     "output_type": "stream",
     "text": [
      "Hay dos iguales\n"
     ]
    }
   ],
   "source": [
    "num1 = int(input())\n",
    "num2 = int(input())\n",
    "num3 = int(input())\n",
    "\n",
    "if num1 == num2 == num3:\n",
    "    print(f\"Son los tres iguales {num1}-{num2}-{num3}\")\n",
    "elif num1 == num2 or num2 == num3 or num3 == num1:\n",
    "    print(\"Hay dos iguales\")"
   ]
  },
  {
   "cell_type": "markdown",
   "metadata": {},
   "source": [
    "**Ejercicio 3**\n",
    "\n",
    "Escriba un programa que pida el año actual y un año cualquiera y que escriba cuántos años han pasado desde ese año o cuántos años faltan para llegar a ese año."
   ]
  },
  {
   "cell_type": "code",
   "execution_count": 21,
   "metadata": {},
   "outputs": [
    {
     "name": "stdout",
     "output_type": "stream",
     "text": [
      "Son los mismos años\n"
     ]
    }
   ],
   "source": [
    "anio_actual = int(input(\"Ingrese el año actual \"))\n",
    "anio_cualquiera = int(input(\"Ingrese el año cualquiera \"))\n",
    "\n",
    "total = 0\n",
    "if anio_actual > anio_cualquiera:\n",
    "    total = anio_actual - anio_cualquiera\n",
    "    print(f\"Han pasado {total} años desde {anio_cualquiera} hasta {anio_actual}.\")\n",
    "elif anio_cualquiera > anio_actual:\n",
    "    total = anio_cualquiera - anio_actual\n",
    "    print(f\"Faltan {total} años desde {anio_actual} hasta {anio_cualquiera}.\")\n",
    "else:\n",
    "    print(\"Son los mismos años\")"
   ]
  },
  {
   "cell_type": "markdown",
   "metadata": {},
   "source": [
    "**Ejercicio 4**\n",
    "\n",
    "Escriba un programa que pida dos números enteros y que calcule su división, escribiendo si la división es exacta o no."
   ]
  },
  {
   "cell_type": "code",
   "execution_count": 24,
   "metadata": {},
   "outputs": [
    {
     "name": "stdout",
     "output_type": "stream",
     "text": [
      "La división NO es exacta\n"
     ]
    }
   ],
   "source": [
    "dividendo = int(input(\"Escriba el dividendo \"))\n",
    "divisor = int(input(\"Escriba el divisor \"))\n",
    "total = dividendo % divisor\n",
    "\n",
    "resultado = print(\"La división es exacta\") if (total == 0) else print(\"La división NO es exacta\")\n"
   ]
  },
  {
   "cell_type": "markdown",
   "metadata": {},
   "source": [
    "**Parte 2:**\n",
    "\n",
    "Mejore el programa anterior haciendo que tenga en cuenta que no se puede dividir por cero:"
   ]
  },
  {
   "cell_type": "code",
   "execution_count": 26,
   "metadata": {},
   "outputs": [
    {
     "name": "stdout",
     "output_type": "stream",
     "text": [
      "La división es exacta\n"
     ]
    }
   ],
   "source": [
    "dividendo = int(input(\"Escriba el dividendo \"))\n",
    "divisor = int(input(\"Escriba el divisor \"))\n",
    "while divisor == 0:\n",
    "    divisor = int(input(\"Escriba el divisor \"))\n",
    "total = dividendo % divisor\n",
    "\n",
    "\n",
    "resultado = print(\"La división es exacta\") if (total == 0) else print(\"La división NO es exacta\")"
   ]
  },
  {
   "cell_type": "markdown",
   "metadata": {},
   "source": [
    "**Ejercicio 5** \n",
    "\n",
    "Escribir un programa que pida al usuario un número entero del 1 al 7 y muestre por pantalla el día de la semana correspondiente. \n",
    "Controlar que el número se encuentre en el rango correcto, si no es así, informar un error. Por ejemplo, si el número es 2 el día es martes."
   ]
  },
  {
   "cell_type": "code",
   "execution_count": null,
   "metadata": {},
   "outputs": [],
   "source": [
    "num_usuario = int(input(\"Ingrese un numero del 1 al 7 \"))\n",
    "\n",
    "if num_usuario == 1:\n",
    "    print(\"Lunes\") \n",
    "elif num_usuario == 2:\n",
    "    print(\"Martes\") \n",
    "elif num_usuario == 3:\n",
    "    print(\"Miércoles\") \n",
    "elif num_usuario == 4:\n",
    "    print(\"Jueves\") \n",
    "elif num_usuario == 5:\n",
    "    print(\"Viernes\") \n",
    "elif num_usuario == 6:\n",
    "    print(\"Sábado\") \n",
    "elif num_usuario == 7:\n",
    "    print(\"Domingo\") \n",
    "else:\n",
    "    print(\"Error\")\n",
    "\n",
    "# Otra forma\n",
    "dias = {\n",
    "    1:\"Lunes\",\n",
    "    2:\"Martes\",\n",
    "    3:\"Miércoles\",\n",
    "    4:\"Jueves\",\n",
    "    5:\"Viernes\",\n",
    "    6:\"Sábado\",\n",
    "    7:\"Domingo\"\n",
    "}\n",
    "\n",
    "if num_usuario in dias:\n",
    "    print(dias.get(num_usuario))\n",
    "else:\n",
    "    print(\"Error\")"
   ]
  },
  {
   "cell_type": "markdown",
   "metadata": {},
   "source": [
    "**Ejercicio 6**\n",
    "\n",
    "Las y los alumnas y alumnos de un curso se han dividido en dos grupos A y B de acuerdo al género y el nombre. \n",
    "El grupo A esta formado por las mujeres con un nombre anterior a la M y los hombres con un nombre posterior a la N y el grupo B por el resto. \n",
    "Escribir un programa que pregunte al usuario su inicial y género, y muestre por pantalla el grupo que le corresponde."
   ]
  },
  {
   "cell_type": "code",
   "execution_count": 63,
   "metadata": {},
   "outputs": [
    {
     "name": "stdout",
     "output_type": "stream",
     "text": [
      "Pertenece al grupo B\n",
      "Pertenece al grupo B\n"
     ]
    }
   ],
   "source": [
    "nombre_anterior_M = \"abcdefghijklm\"\n",
    "\n",
    "genero = input(\"Género masculno: M\\n Género femenino: F \").lower()\n",
    "inicial = input(\"Ingrese su inicial \").lower()\n",
    "\n",
    "if genero == \"f\":\n",
    "    if inicial in nombre_anterior_M:\n",
    "        print(\"Pertenece al grupo A\")\n",
    "    else:\n",
    "        print(\"Pertenece al grupo B\")\n",
    "elif genero == \"m\":\n",
    "    if inicial in nombre_anterior_M:\n",
    "        print(\"Pertenece al grupo B\")\n",
    "    else:\n",
    "        print(\"Pertenece al grupo A\")\n",
    "else:\n",
    "    print(\"Error\")\n",
    "\n",
    "# Otra forma usando regex\n",
    "import re\n",
    "\n",
    "coincidencia = re.search(r\"([a-mA-M])\", inicial)\n",
    "\n",
    "if genero == \"f\":\n",
    "    if coincidencia:\n",
    "        print(\"Pertenece al grupo A\")\n",
    "    else:\n",
    "        print(\"Pertenece al grupo B\")\n",
    "elif genero == \"m\":\n",
    "    if not coincidencia:\n",
    "        print(\"Pertenece al grupo A\")\n",
    "    else:\n",
    "        print(\"Pertenece al grupo B\")\n",
    "else:\n",
    "    print(\"Error\")\n"
   ]
  },
  {
   "cell_type": "markdown",
   "metadata": {},
   "source": [
    "**Ejercicio 7**\n",
    "\n",
    "Escribir un programa para una empresa que tiene salas de juegos para todas las edades y quiere calcular de forma automática el precio que debe cobrar a sus clientes por entrar. \n",
    "El programa debe preguntar al usuario la edad del cliente y mostrar el precio de la entrada. \n",
    "Si el cliente es menor de 4 años puede entrar gratis, si tiene entre 4 y 18 años debe pagar 5 pesos y si es mayor de 18 años, 10 pesos."
   ]
  },
  {
   "cell_type": "code",
   "execution_count": 4,
   "metadata": {},
   "outputs": [
    {
     "name": "stdout",
     "output_type": "stream",
     "text": [
      "La entrada sale 10 pesos\n"
     ]
    }
   ],
   "source": [
    "edad = int(input(\"Ingrese la edad\"))\n",
    "\n",
    "if edad > 0 and edad < 4:\n",
    "    print(\"La entrada es gratis\")\n",
    "elif edad >= 4 and edad < 18:\n",
    "    print(\"La entrada sale 5 pesos\")\n",
    "else:\n",
    "    print(\"La entrada sale 10 pesos\")\n"
   ]
  },
  {
   "cell_type": "markdown",
   "metadata": {},
   "source": [
    "**Ejercicio 8**\n",
    "\n",
    "Escriba un programa que pregunte primero si se quiere calcular el área de un triángulo o la de un círculo. \n",
    "Si se contesta que se quiere calcular el área de un triángulo (escribiendo T o t), el programa tiene que pedir entonces la base y la altura y escribir el área. \n",
    "Si se contesta que se quiere calcular el área de un círculo (escribiendo C o c), el programa tiene que pedir entonces el radio y escribir el área.\n",
    "Se recuerda que el área de un triángulo es base por altura dividido por 2 y que el área de un círculo es Pi (aproximadamente 3,141592) por el radio al cuadrado."
   ]
  },
  {
   "cell_type": "code",
   "execution_count": 9,
   "metadata": {},
   "outputs": [
    {
     "name": "stdout",
     "output_type": "stream",
     "text": [
      "El área del circulo es 314.16\n"
     ]
    }
   ],
   "source": [
    "import math\n",
    "pi = math.pi\n",
    "\n",
    "pregunta = input(\"Calcular Area de triangulo T o t\\n Calcular area circulo C o c\")\n",
    "\n",
    "if pregunta == \"T\" or pregunta == \"t\":\n",
    "    altura = int(input(\"Ingrese la altura \"))\n",
    "    base = int(input(\"Ingrese la base \"))\n",
    "    area = base * altura / 2\n",
    "    print(f\"El área del triangulo es {area}\")\n",
    "elif pregunta == \"C\" or pregunta == \"c\":\n",
    "    radio = int(input(\"Ingrese el radio\"))\n",
    "    area = round(radio**2 * pi,2)\n",
    "    print(f\"El área del circulo es {area}\")\n",
    "else:\n",
    "    print(\"Error\")"
   ]
  },
  {
   "cell_type": "markdown",
   "metadata": {},
   "source": [
    "###Ejercicios While\n",
    "\n",
    "**Ejercicio 1**\n",
    "\n",
    "Mostrar por pantalla todos los números enteros entre 1 y 100, hacerlo usando un bucle while y tambien con un bucle for."
   ]
  },
  {
   "cell_type": "code",
   "execution_count": null,
   "metadata": {},
   "outputs": [],
   "source": [
    "i = 1\n",
    "while i <= 100:\n",
    "    print(i)\n",
    "    i+=1\n",
    "\n",
    "for i in range(1,101):\n",
    "    print(i)"
   ]
  },
  {
   "cell_type": "markdown",
   "metadata": {},
   "source": [
    "**Ejercicio 2** \n",
    "\n",
    "Escriba un programa que pregunte una y otra vez si desea continuar con el programa, siempre que se conteste exactamente sí (en minúsculas y con tilde)."
   ]
  },
  {
   "cell_type": "code",
   "execution_count": 16,
   "metadata": {},
   "outputs": [],
   "source": [
    "pregunta = \"sí\"\n",
    "\n",
    "while pregunta == \"sí\":\n",
    "    pregunta = input(\"Desea continuar con el programa\")\n"
   ]
  },
  {
   "cell_type": "markdown",
   "metadata": {},
   "source": [
    "**Ejercicio 3** \n",
    "\n",
    "Escriba un programa que pregunte una y otra vez si desea terminar el programa, salvo si se contesta exactamente SI (en mayúsculas y sin tilde)."
   ]
  },
  {
   "cell_type": "code",
   "execution_count": 17,
   "metadata": {},
   "outputs": [],
   "source": [
    "pregunta = \"\"\n",
    "\n",
    "while pregunta != \"SI\":\n",
    "    pregunta = input(\"Deseao continuar con el programa\")"
   ]
  },
  {
   "cell_type": "markdown",
   "metadata": {},
   "source": [
    "**Ejercicio 4**\n",
    "\n",
    "Escribir un programa que pida al usuario dos números enteros e imprima todos los números enteros entre ellos."
   ]
  },
  {
   "cell_type": "code",
   "execution_count": null,
   "metadata": {},
   "outputs": [],
   "source": [
    "num1 = int(input(\"Ingrese un numero \"))\n",
    "num2 = int(input(\"Ingrese un numero \"))\n",
    "\n",
    "if num1 > num2:\n",
    "    while num1 > num2:\n",
    "        print(num2)\n",
    "        num2+=1\n",
    "else:\n",
    "    while num1 < num2:\n",
    "        print(num1)\n",
    "        num1+=1"
   ]
  },
  {
   "cell_type": "markdown",
   "metadata": {},
   "source": [
    "**Ejercicio 5**\n",
    "\n",
    "Escriba un programa que solicite una contraseña (el texto de la contraseña no es importante) y la vuelva a solicitar hasta que las dos contraseñas coincidan."
   ]
  },
  {
   "cell_type": "code",
   "execution_count": 21,
   "metadata": {},
   "outputs": [],
   "source": [
    "password = \"abc123\"\n",
    "confirmacion = \"\"\n",
    "\n",
    "while password != confirmacion:\n",
    "    confirmacion = input(\"Ingrese la contraseña\")\n"
   ]
  },
  {
   "cell_type": "markdown",
   "metadata": {},
   "source": [
    "Parte 2: Al programa anterior agregarle una limitacion de 3 intentos como maximo."
   ]
  },
  {
   "cell_type": "code",
   "execution_count": 23,
   "metadata": {},
   "outputs": [],
   "source": [
    "password = \"abc123\"\n",
    "confirmacion = \"\"\n",
    "intentos = 0\n",
    "\n",
    "while password != confirmacion and intentos < 3:\n",
    "    confirmacion = input(\"Ingrese la contraseña\")\n",
    "    intentos+=1"
   ]
  },
  {
   "cell_type": "markdown",
   "metadata": {},
   "source": [
    "### Ejercicio 6\n",
    "Construir un programa que lea un número natural N y calcule la suma de los primeros N números pares."
   ]
  },
  {
   "cell_type": "code",
   "execution_count": 31,
   "metadata": {},
   "outputs": [
    {
     "name": "stdout",
     "output_type": "stream",
     "text": [
      "30\n"
     ]
    }
   ],
   "source": [
    "num = int(input(\"Ingrese un numero natural\"))\n",
    "\n",
    "suma = 0\n",
    "i = 2\n",
    "while i < num+1:\n",
    "    suma += i \n",
    "    i+=2\n",
    "\n",
    "print(suma)"
   ]
  },
  {
   "cell_type": "markdown",
   "metadata": {},
   "source": [
    "**Ejercicio 7**\n",
    "\n",
    "Escribir un programa que recibe como entrada desde el usuario dos números enteros e informa por pantalla todos los números pares entre ellos."
   ]
  },
  {
   "cell_type": "code",
   "execution_count": null,
   "metadata": {},
   "outputs": [],
   "source": [
    "num1 = int(input(\"Escriba un numero entero \"))\n",
    "num2 = int(input(\"Escriba un numero entero \"))\n",
    "\n",
    "if num1 < num2:\n",
    "    while num1 <= num2:\n",
    "        if num1 % 2 == 0:\n",
    "            print(num1)\n",
    "            num1 += 2\n",
    "            continue\n",
    "        num1+=1\n",
    "else:\n",
    "    while num2 <= num1:\n",
    "        if num2 % 2 == 0:\n",
    "            print(num2)\n",
    "            num2 += 2\n",
    "            continue\n",
    "        num2+=1"
   ]
  },
  {
   "cell_type": "markdown",
   "metadata": {},
   "source": [
    "**Ejercicio 8**\n",
    "\n",
    "Escribir un programa que pida un número entero y muestre por pantalla la cantidad de cifras de dicho número."
   ]
  },
  {
   "cell_type": "code",
   "execution_count": 60,
   "metadata": {},
   "outputs": [
    {
     "name": "stdout",
     "output_type": "stream",
     "text": [
      "El numero -1024 tiene 4 cifras\n",
      "El numero -1024 tiene 4 cifras\n"
     ]
    }
   ],
   "source": [
    "num = int(input(\"Ingrese un numero \"))\n",
    "# Método fácil\n",
    "\n",
    "copia = str(abs(num))\n",
    "\n",
    "print(f\"El numero {num} tiene {len(copia)} cifras\")\n",
    "\n",
    "# Método difícil\n",
    "\n",
    "cifras = 1\n",
    "copia = abs(num)\n",
    "while copia > 9:\n",
    "    copia//=10\n",
    "    cifras+=1\n",
    "\n",
    "print(f\"El numero {num} tiene {cifras} cifras\")"
   ]
  },
  {
   "cell_type": "markdown",
   "metadata": {},
   "source": [
    "**Ejercicio 9**\n",
    "\n",
    "Escriba un programa que simule una alcancia. \n",
    "El programa solicitará primero una cantidad, que será la cantidad de dinero que queremos ahorrar. A continuación, el programa solicitará una y otra vez las cantidades que se irán ahorrando, hasta que el total ahorrado iguale o supere al objetivo. \n",
    "El programa no comprobará que las cantidades sean positivas."
   ]
  },
  {
   "cell_type": "code",
   "execution_count": null,
   "metadata": {},
   "outputs": [],
   "source": [
    "objetivo_ahorro = int(input(\"Ingrese el dinero a ahorrar \"))\n",
    "ahorro_actual = 0\n",
    "while ahorro_actual < objetivo_ahorro:\n",
    "    ahorro_actual += int(input(\"Ingrese el ahorro \"))\n",
    "    print(ahorro_actual)"
   ]
  },
  {
   "cell_type": "markdown",
   "metadata": {},
   "source": [
    "Hacer que el programa verifique que las cantidades sean positivas. En caso de ser cero o valores negativos, que ingrese devuelte el valor."
   ]
  },
  {
   "cell_type": "code",
   "execution_count": null,
   "metadata": {},
   "outputs": [],
   "source": [
    "objetivo_ahorro = int(input(\"Ingrese el dinero a ahorrar \"))\n",
    "ahorro_actual = 0\n",
    "while ahorro_actual < objetivo_ahorro:\n",
    "    ahorro = int(input(\"Ingrese el ahorro \"))\n",
    "    if ahorro > 0:\n",
    "        ahorro_actual += ahorro\n",
    "    print(ahorro_actual)"
   ]
  }
 ],
 "metadata": {
  "kernelspec": {
   "display_name": "Python 3.10.8 64-bit (microsoft store)",
   "language": "python",
   "name": "python3"
  },
  "language_info": {
   "codemirror_mode": {
    "name": "ipython",
    "version": 3
   },
   "file_extension": ".py",
   "mimetype": "text/x-python",
   "name": "python",
   "nbconvert_exporter": "python",
   "pygments_lexer": "ipython3",
   "version": "3.10.8"
  },
  "orig_nbformat": 4,
  "vscode": {
   "interpreter": {
    "hash": "9d5671eafa9e73bf923d0857eb44135560ea89b4578e9228f4e7da5323ebe009"
   }
  }
 },
 "nbformat": 4,
 "nbformat_minor": 2
}
