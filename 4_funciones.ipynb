{
 "cells": [
  {
   "cell_type": "markdown",
   "metadata": {},
   "source": [
    "**Ejercicio 1**\n",
    "\n",
    "Escribir una función que calcule el área de un círculo y otra que calcule el volumen de un cilindro usando la primera función."
   ]
  },
  {
   "cell_type": "code",
   "execution_count": 23,
   "metadata": {},
   "outputs": [
    {
     "data": {
      "text/plain": [
       "785.3981633974483"
      ]
     },
     "execution_count": 23,
     "metadata": {},
     "output_type": "execute_result"
    }
   ],
   "source": [
    "import math\n",
    "pi = math.pi\n",
    "\n",
    "def area_circulo(radio):\n",
    "# Propósito: Calcular el área del circulo con radio **radio**\n",
    "# Parámetros: radio - entero - El radio para calcular el área\n",
    "# Precondiciones: ninguna.\n",
    "# Tipo: Número\n",
    "    area = pi * (radio**2)\n",
    "    return area\n",
    "\n",
    "def volumen_cilindro(radio, altura):\n",
    "# Propósito: Calcular el volumen del cilindro con radio **radio** y altura **altura**\n",
    "# Parámetros: radio - entero - El radio para calcular el volumen\n",
    "#             altura - entero - La altura para calcular el volumen\n",
    "# Precondiciones: ninguna.\n",
    "# Tipo: Número\n",
    "    volumen = area_circulo(radio)*altura\n",
    "    return volumen\n",
    "\n",
    "\n",
    "volumen_cilindro(5,10)"
   ]
  },
  {
   "cell_type": "markdown",
   "metadata": {},
   "source": [
    "**Ejercicio 2**\n",
    "\n",
    "Escribir una función que reciba una muestra de números en una lista y devuelva su promedio."
   ]
  },
  {
   "cell_type": "code",
   "execution_count": 24,
   "metadata": {},
   "outputs": [
    {
     "data": {
      "text/plain": [
       "6.75"
      ]
     },
     "execution_count": 24,
     "metadata": {},
     "output_type": "execute_result"
    }
   ],
   "source": [
    "lista = [1,5,7,14]\n",
    "\n",
    "def lista_promedios(lista):\n",
    "# Propósito: Calcula el promedio de la lista **lista** de numeros\n",
    "# Parámetros: lista - lista numeros - La lista para calcular su promedio\n",
    "# Precondiciones: ninguna.\n",
    "# Tipo: Número\n",
    "    promedio =  sum(lista) / len(lista)\n",
    "    return promedio\n",
    "\n",
    "lista_promedios(lista)"
   ]
  },
  {
   "cell_type": "markdown",
   "metadata": {},
   "source": [
    "**Ejercicio 3**\n",
    "\n",
    "Escribir la función factorial(), que reciba un número entero positivo y devuelva su factorial.\n",
    "\n",
    "Factorial = El producto de todos los números enteros positivos desde 1 hasta el numero indicado.\n",
    "\n",
    "Factorial(4) = 1*2*3*4 = 24"
   ]
  },
  {
   "cell_type": "code",
   "execution_count": 27,
   "metadata": {},
   "outputs": [
    {
     "data": {
      "text/plain": [
       "120"
      ]
     },
     "execution_count": 27,
     "metadata": {},
     "output_type": "execute_result"
    }
   ],
   "source": [
    "def factorial(num):\n",
    "# Propósito: Calcula el factorial del numero **num**\n",
    "# Parámetros: num - Numero - El numero para averiguar su factorial\n",
    "# Precondiciones: ninguna.\n",
    "# Tipo: Número\n",
    "    factorial = 1\n",
    "    for i in range(2,num+1):\n",
    "        factorial*=i\n",
    "    return factorial\n",
    "\n",
    "factorial(5)"
   ]
  },
  {
   "cell_type": "markdown",
   "metadata": {},
   "source": [
    "**Ejercicio 4**\n",
    "\n",
    "Realiza una función llamada medio() que a partir de dos números, devuelva su punto medio. Cuando lo tengas comprueba el punto intermedio entre -12 y 24.\n",
    "\n",
    "El punto medio de dos números corresponde a la suma de los dos números dividida entre 2"
   ]
  },
  {
   "cell_type": "code",
   "execution_count": 8,
   "metadata": {},
   "outputs": [
    {
     "data": {
      "text/plain": [
       "10.0"
      ]
     },
     "execution_count": 8,
     "metadata": {},
     "output_type": "execute_result"
    }
   ],
   "source": [
    "def medio(num1,num2):\n",
    "# Propósito: Calcula el punto medio entre el numero **num1** y **num2**\n",
    "# Parámetros: num1 - Numero - El primer numero a calcular\n",
    "#             num2 - Numero - El segundo numero a calcular\n",
    "# Precondiciones: ninguna.\n",
    "# Tipo: Número    \n",
    "    medio = (num1 + num2) / 2\n",
    "    return medio\n",
    "\n",
    "medio(5,15)"
   ]
  },
  {
   "cell_type": "markdown",
   "metadata": {},
   "source": [
    "**Ejercicio 5**\n",
    "\n",
    "Crear una función calcularMaxMin(list) que recibe una lista con valores numéricos y devuelve el valor máximo y el mínimo. Crea un programa que pida 10 números por teclado y muestre el máximo y el mínimo, utilizando la función anterior."
   ]
  },
  {
   "cell_type": "code",
   "execution_count": 29,
   "metadata": {},
   "outputs": [
    {
     "data": {
      "text/plain": [
       "(1, 63)"
      ]
     },
     "execution_count": 29,
     "metadata": {},
     "output_type": "execute_result"
    }
   ],
   "source": [
    "def calcularMaxMin(list):\n",
    "# Propósito: Calcula el valor mínimo y máximo de una lista **list**\n",
    "# Parámetros: list - Lista numero - La lista para calcular su máximo y mínimo\n",
    "# Precondiciones: ninguna.\n",
    "# Tipo: tupla\n",
    "    minimo = list[0]\n",
    "    maximo = minimo\n",
    "    for num in list:\n",
    "        if num < minimo:\n",
    "            minimo = num\n",
    "        if num > maximo:\n",
    "            maximo = num\n",
    "    return minimo,maximo\n",
    "\n",
    "lista = []\n",
    "for i in range(10):\n",
    "    numero = int(input(\"Ingrese un numero\"))\n",
    "    lista.append(numero)\n",
    "\n",
    "calcularMaxMin(lista)"
   ]
  },
  {
   "cell_type": "markdown",
   "metadata": {},
   "source": [
    "**Ejercicio 6**\n",
    "\n",
    "Realiza una función llamada recortar(numero, minimo, maximo) que reciba tres parámetros. El primero es el número a recortar, el segundo es el límite inferior y el tercero el límite superior. La función tendrá que cumplir lo siguiente:\n",
    "\n",
    "- Devolver el límite inferior si el número es menor que éste\n",
    "- Devolver el límite superior si el número es mayor que éste.\n",
    "- Devolver el número sin cambios si no se supera ningún límite."
   ]
  },
  {
   "cell_type": "code",
   "execution_count": 32,
   "metadata": {},
   "outputs": [
    {
     "data": {
      "text/plain": [
       "19"
      ]
     },
     "execution_count": 32,
     "metadata": {},
     "output_type": "execute_result"
    }
   ],
   "source": [
    "def recortar(numero, minimo, maximo):\n",
    "# Propósito: Recorta el numero **numero** \n",
    "# Parámetros: numero - numero - El numero a recortar\n",
    "#             minimo - numero - el limite inferior\n",
    "#             maximo - numero - el limite superior\n",
    "# Precondiciones: ninguna.\n",
    "# Tipo: numero\n",
    "    if numero < minimo:\n",
    "        return minimo\n",
    "    elif numero > maximo:\n",
    "        return maximo\n",
    "    else:\n",
    "        return numero\n",
    "\n",
    "recortar(22, 12, 19)"
   ]
  },
  {
   "cell_type": "markdown",
   "metadata": {},
   "source": [
    "**Ejercicio 7**\n",
    "\n",
    "Escribir una función que aplique un descuento que se le indica a un precio y otra que aplique el IVA a un precio.Si se invoca la función sin pasarle el porcentaje de IVA, deberá aplicar un 21%.\n",
    "\n",
    "Escribir una tercera función que reciba un diccionario con los precios y porcentajes de descuento de un carrito de compras, y una de las funciones anteriores, y utilice la función pasada para aplicar los descuentos o el IVA a los productos de la cesta y devolver el precio final de la cesta."
   ]
  },
  {
   "cell_type": "code",
   "execution_count": 7,
   "metadata": {},
   "outputs": [
    {
     "data": {
      "text/plain": [
       "2949.5"
      ]
     },
     "execution_count": 7,
     "metadata": {},
     "output_type": "execute_result"
    }
   ],
   "source": [
    "def aplicar_descuento(precio, descuento):\n",
    "# Propósito: Calcular un descuento **descuento** sobre el precio **precio**\n",
    "# Parámetros: precio - numero - El precio a aplicar el descuento\n",
    "#             descuento - numero - El descuento a aplicar\n",
    "# Precondiciones: ninguna.\n",
    "# Tipo: numero\n",
    "    nuevo_precio = precio - (precio * descuento / 100)\n",
    "    return nuevo_precio\n",
    "\n",
    "def aplicar_iva(precio, iva=21):\n",
    "# Propósito: Calcular un iva **iva** sobre el precio **precio**\n",
    "# Parámetros: precio - numero - El precio a aplicar el iva\n",
    "#             iva - numero - El iva a aplicar\n",
    "# Precondiciones: ninguna.\n",
    "# Tipo: numero\n",
    "    nuevo_precio = precio +(precio*iva/100)\n",
    "    return nuevo_precio\n",
    "\n",
    "\n",
    "precios_porcentajes = {  280:15,450:10, 600:5,190:0,1250:5}\n",
    "\n",
    "def aplicar_operacion(dict):\n",
    "# Propósito: Calcular una operación de descuento o iva al diccionario **dict**\n",
    "# Parámetros: dict - dict - El diccionario con precios y descuentos\n",
    "# Precondiciones: ninguna.\n",
    "# Tipo: numero\n",
    "    operacion = int(input(\"1- Aplicar descuento \\n 2- Aplicar Iva\"))\n",
    "    total = 0\n",
    "    if operacion == 1:\n",
    "        for k,v in dict.items():\n",
    "            total += aplicar_descuento(k, v)\n",
    "    elif operacion == 2:\n",
    "        for k,v in dict.items():\n",
    "            total += aplicar_iva(k, v)\n",
    "\n",
    "    return total\n",
    "\n",
    "aplicar_operacion(precios_porcentajes)"
   ]
  },
  {
   "cell_type": "markdown",
   "metadata": {},
   "source": [
    "**Ejercicio 8**\n",
    "\n",
    "Crear una función que calcule la temperatura media de un día a partir de la temperatura máxima y mínima. Crear un programa principal, que utilizando la función anterior, vaya pidiendo la temperatura máxima y mínima de cada día y vaya mostrando la media. El programa principal pedirá el número de días que se van a introducir."
   ]
  },
  {
   "cell_type": "code",
   "execution_count": 10,
   "metadata": {},
   "outputs": [
    {
     "name": "stdout",
     "output_type": "stream",
     "text": [
      "La temperatura media del dia 1 es 20.5\n",
      "La temperatura media del dia 2 es 25.0\n",
      "La temperatura media del dia 3 es 27.5\n"
     ]
    }
   ],
   "source": [
    "cant_dias = int(input(\"Ingrese la cantidad de días \"))\n",
    "\n",
    "for dia in range(cant_dias):\n",
    "    minima = int(input(f\"Ingrese la temperatura mínima del dia {dia+1} \"))\n",
    "    maxima = int(input(f\"Ingrese la temperatura máxima del dia {dia+1} \"))\n",
    "    # Usando una función del ejercicio 4 \n",
    "    print(f\"La temperatura media del dia {dia+1} es {medio(minima,maxima)}\")\n"
   ]
  },
  {
   "cell_type": "markdown",
   "metadata": {},
   "source": [
    "**Ejercicio 9**\n",
    "\n",
    "Escribir dos funciones que permitan calcular:\n",
    "\n",
    "- La cantidad de segundos en un tiempo dado en horas, minutos y segundos.\n",
    "- La cantidad de horas, minutos y segundos de un tiempo dado en segundos.\n",
    "\n",
    "Escribe un programa principal con un menú donde se pueda elegir la opción de convertir a segundos, convertir a horas,minutos y segundos o salir del programa."
   ]
  },
  {
   "cell_type": "code",
   "execution_count": 19,
   "metadata": {},
   "outputs": [
    {
     "name": "stdout",
     "output_type": "stream",
     "text": [
      "1- Para pasar segundos a minutos, horas y segundo\n",
      "2- Para pasar minutos, horas y segundo a segundos\n",
      "Los segundos son 13530\n"
     ]
    }
   ],
   "source": [
    "def calcular_segundos(horas, minutos, segundos):\n",
    "# Propósito: Calcular los segundos a partir de las horas, minutos y segundos dados\n",
    "# Parámetros: horas - numero - La cantidad de horas a pasar a segundos\n",
    "#             minutos - numero - La cantidad de minutos a pasar a segundos\n",
    "#             segundos - numero - La cantidad de segundos\n",
    "# Precondiciones: ninguna.\n",
    "# Tipo: numero\n",
    "    horas_segundos = horas * 3600\n",
    "    minutos_segundos = minutos * 60\n",
    "    total = horas_segundos + minutos_segundos + segundos\n",
    "    return total\n",
    "\n",
    "def calcular_hms(segundos):\n",
    "# Propósito: Calcular las horas, minutos y segundos a partir de los segundos dados\n",
    "# Parámetros: segundos - numero - La cantidad de segundos a pasar a horas, minutos y segundos\n",
    "# Precondiciones: ninguna.\n",
    "# Tipo: numero    \n",
    "    hor = segundos / 3600\n",
    "    hor_full = round(hor // 1)\n",
    "    min = hor % 1 * 60\n",
    "    min_full = round(min // 1)\n",
    "    seg = min % 1 * 60\n",
    "    seg_full = round(seg // 1)\n",
    "    return hor_full,min_full,seg_full\n",
    "\n",
    "def menu():\n",
    "# Propósito: Mostrar un menú de opciones para calcular segundos o minutos, horas y segundos\n",
    "# Precondiciones: ninguna.\n",
    "# Tipo: \n",
    "    print(\"1- Para pasar segundos a minutos, horas y segundo\")\n",
    "    print(\"2- Para pasar minutos, horas y segundo a segundos\")\n",
    "    opcion = int(input())\n",
    "    if opcion == 1:\n",
    "        segundos = int(input(\"Ingrese los segundos \"))\n",
    "        calculo = calcular_hms(segundos)\n",
    "        print(\"Las horas, minutos y segundos son\", calculo)\n",
    "    elif opcion == 2:\n",
    "        horas = int(input(\"Ingrese las horas \"))\n",
    "        minutos = int(input(\"Ingrese los minutos \"))\n",
    "        segundos = int(input(\"Ingrese los segundos \"))\n",
    "        calculo = calcular_segundos(horas, minutos, segundos)\n",
    "        print(\"Los segundos son\", calculo)\n",
    "\n",
    "menu()"
   ]
  },
  {
   "cell_type": "markdown",
   "metadata": {},
   "source": [
    "**Ejercicio 10**\n",
    "\n",
    "Crear una función llamada “Login”, que recibe un nombre de usuario y una contraseña y te devuelve `True` si el nombre de usuario es “usuario1” y la contraseña es “asdasd”. \n",
    "Además recibe la variable que contiene el número de intentos que se ha intentado hacer login y si no se ha podido hacer login incremente este valor.\n",
    "\n",
    "Crear un programa principal donde se pida un nombre de usuario y una contraseña y se intente hacer login, solamente tenemos tres oportunidades para intentarlo."
   ]
  },
  {
   "cell_type": "code",
   "execution_count": 27,
   "metadata": {},
   "outputs": [],
   "source": [
    "def login(usuario, password,intentos):\n",
    "# Propósito: Retorna verdadero si se ha conseguido iniciar sesión\n",
    "# Precondiciones: ninguna.\n",
    "# Tipo: booleano\n",
    "    intentos +=1\n",
    "    if usuario == 'usuario1' and password == 'asdasd':\n",
    "        return True\n",
    "    return False\n",
    "\n",
    "usuario = input(\"Ingrese el usuario \")\n",
    "password = input(\"Ingrese el password \")\n",
    "\n",
    "intentos = 1\n",
    "\n",
    "while not login(usuario, password,intentos) and intentos < 3:\n",
    "    usuario = input(\"Ingrese el usuario nuevamente \")\n",
    "    password = input(\"Ingrese el password nuevamente \")\n",
    "    intentos +=1"
   ]
  }
 ],
 "metadata": {
  "kernelspec": {
   "display_name": "Python 3.10.8 64-bit (microsoft store)",
   "language": "python",
   "name": "python3"
  },
  "language_info": {
   "codemirror_mode": {
    "name": "ipython",
    "version": 3
   },
   "file_extension": ".py",
   "mimetype": "text/x-python",
   "name": "python",
   "nbconvert_exporter": "python",
   "pygments_lexer": "ipython3",
   "version": "3.10.8"
  },
  "orig_nbformat": 4,
  "vscode": {
   "interpreter": {
    "hash": "9d5671eafa9e73bf923d0857eb44135560ea89b4578e9228f4e7da5323ebe009"
   }
  }
 },
 "nbformat": 4,
 "nbformat_minor": 2
}
